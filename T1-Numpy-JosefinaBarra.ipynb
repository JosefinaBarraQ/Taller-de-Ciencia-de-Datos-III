{
 "cells": [
  {
   "cell_type": "code",
   "execution_count": 8,
   "id": "8a5808a7",
   "metadata": {},
   "outputs": [
    {
     "name": "stdout",
     "output_type": "stream",
     "text": [
      "Requirement already satisfied: numpy in c:\\users\\jcarv\\anaconda3\\lib\\site-packages (1.20.1)\n"
     ]
    }
   ],
   "source": [
    "!pip install numpy"
   ]
  },
  {
   "cell_type": "code",
   "execution_count": 9,
   "id": "2854fe76",
   "metadata": {},
   "outputs": [],
   "source": [
    "import numpy as np"
   ]
  },
  {
   "cell_type": "raw",
   "id": "2a7115ba",
   "metadata": {},
   "source": [
    "1. Cree un Numpy Array de 5 por 7 de números enteros aleatorios con valores entre 3 y 11 inclusive. Luego haz lo siguiente:\n",
    "Verifique el tipo de datos del array\n",
    "Encuentre el máximo de todo el array\n",
    "Encuentre el valor mínimo de cada fila\n",
    "Encuentre el índice donde ocurre el valor mínimo de cada fila"
   ]
  },
  {
   "cell_type": "code",
   "execution_count": 10,
   "id": "a17bdd1b",
   "metadata": {},
   "outputs": [],
   "source": [
    "uno = np.random.randint(3,12,size=(5,7))"
   ]
  },
  {
   "cell_type": "code",
   "execution_count": 11,
   "id": "c45782a3",
   "metadata": {
    "scrolled": true
   },
   "outputs": [
    {
     "name": "stdout",
     "output_type": "stream",
     "text": [
      "int32\n",
      "11\n",
      "[3 5 4 3 3]\n",
      "[1 3 1 3 5]\n"
     ]
    }
   ],
   "source": [
    "print(uno.dtype)\n",
    "print(uno.max())\n",
    "print(uno.min(axis=1))\n",
    "print(np.argmin(uno, axis=1))"
   ]
  },
  {
   "cell_type": "raw",
   "id": "400b224d",
   "metadata": {},
   "source": [
    "2. Ingrese el código a continuación: "
   ]
  },
  {
   "cell_type": "code",
   "execution_count": 12,
   "id": "c90510f6",
   "metadata": {},
   "outputs": [],
   "source": [
    "dos = np.arange(4, 100, 5)"
   ]
  },
  {
   "cell_type": "code",
   "execution_count": 13,
   "id": "cb468bfe",
   "metadata": {},
   "outputs": [
    {
     "name": "stdout",
     "output_type": "stream",
     "text": [
      "[ 4  9 14 19 24 29 34 39 44 49 54 59 64 69 74 79 84 89 94 99]\n"
     ]
    }
   ],
   "source": [
    "print(dos)"
   ]
  },
  {
   "cell_type": "raw",
   "id": "afc863ac",
   "metadata": {},
   "source": [
    "3. Ingrese el código a continuación que genera el siguiente numpy array:\n",
    "array([[ 4,  9, 14, 19, 24],\n",
    "       [29, 34, 39, 44, 49],\n",
    "       [54, 59, 64, 69, 74],\n",
    "       [79, 84, 89, 94, 99]])"
   ]
  },
  {
   "cell_type": "code",
   "execution_count": 14,
   "id": "ff71b093",
   "metadata": {},
   "outputs": [],
   "source": [
    "tres = np.arange(4,100,5)"
   ]
  },
  {
   "cell_type": "code",
   "execution_count": 15,
   "id": "c9d27f61",
   "metadata": {},
   "outputs": [
    {
     "name": "stdout",
     "output_type": "stream",
     "text": [
      "[[ 4  9 14 19 24]\n",
      " [29 34 39 44 49]\n",
      " [54 59 64 69 74]\n",
      " [79 84 89 94 99]]\n"
     ]
    }
   ],
   "source": [
    "print(tres.reshape(4,5))"
   ]
  },
  {
   "cell_type": "raw",
   "id": "4346aab7",
   "metadata": {},
   "source": [
    "4. Cree un numpy array de 4 por 2 por 3 con valores normalmente distribuido"
   ]
  },
  {
   "cell_type": "code",
   "execution_count": 16,
   "id": "a41e8a5f",
   "metadata": {},
   "outputs": [],
   "source": [
    "cuatro = np.random.normal(size=(3,4,2))"
   ]
  },
  {
   "cell_type": "code",
   "execution_count": 17,
   "id": "15d5ca3a",
   "metadata": {},
   "outputs": [
    {
     "name": "stdout",
     "output_type": "stream",
     "text": [
      "[[[-1.47068446 -0.32247038]\n",
      "  [ 2.00792169  2.6698981 ]\n",
      "  [-1.58373344  0.24036452]\n",
      "  [ 1.627437    0.61058473]]\n",
      "\n",
      " [[ 0.48936488 -1.78351586]\n",
      "  [ 1.16088126  1.28363338]\n",
      "  [ 0.51147613  0.26287902]\n",
      "  [ 0.21158717 -0.10500064]]\n",
      "\n",
      " [[ 0.54915235  0.73423154]\n",
      "  [ 0.66077564  0.21306227]\n",
      "  [ 0.22464153  0.70353645]\n",
      "  [ 1.21611843 -1.68609423]]]\n"
     ]
    }
   ],
   "source": [
    "print(cuatro)"
   ]
  },
  {
   "cell_type": "raw",
   "id": "179b4f0e",
   "metadata": {},
   "source": [
    "5.Ingrese el código a continuación que genera el siguiente numpy array (incluyendo el tipo correcto de datos):"
   ]
  },
  {
   "cell_type": "code",
   "execution_count": 18,
   "id": "c596644d",
   "metadata": {},
   "outputs": [],
   "source": [
    "cinco = np.diag(np.ones(4, dtype=int), k=-2)"
   ]
  },
  {
   "cell_type": "code",
   "execution_count": 19,
   "id": "6b492e82",
   "metadata": {},
   "outputs": [
    {
     "name": "stdout",
     "output_type": "stream",
     "text": [
      "[[0 0 0 0 0 0]\n",
      " [0 0 0 0 0 0]\n",
      " [1 0 0 0 0 0]\n",
      " [0 1 0 0 0 0]\n",
      " [0 0 1 0 0 0]\n",
      " [0 0 0 1 0 0]]\n"
     ]
    }
   ],
   "source": [
    "print(cinco)"
   ]
  },
  {
   "cell_type": "raw",
   "id": "7f0ba07f",
   "metadata": {},
   "source": [
    "6.Dado el numpy array\n",
    "array([ 3,  5,  7,  9, 11, 13, 15, 17, 19, 21, 23, 25, 27, 29, 31, 33])\n",
    "Ingrese el código que selccione sólo los últimos 4 elementos:\n",
    "#Result\n",
    "array([27, 29, 31, 33])\n",
    "Ingrese el código que selecciones el siguiente subarray:\n",
    "#Result\n",
    "array([ 3,  9, 15, 21, 27, 33])"
   ]
  },
  {
   "cell_type": "code",
   "execution_count": 20,
   "id": "8ed0659f",
   "metadata": {},
   "outputs": [],
   "source": [
    "seis = np.arange(3, 34, 2)"
   ]
  },
  {
   "cell_type": "code",
   "execution_count": 21,
   "id": "30e9c23e",
   "metadata": {},
   "outputs": [
    {
     "name": "stdout",
     "output_type": "stream",
     "text": [
      "[ 3  5  7  9 11 13 15 17 19 21 23 25 27 29 31 33]\n",
      "16\n"
     ]
    }
   ],
   "source": [
    "print(seis)\n",
    "print(seis.size)"
   ]
  },
  {
   "cell_type": "code",
   "execution_count": 22,
   "id": "df43871c",
   "metadata": {},
   "outputs": [
    {
     "name": "stdout",
     "output_type": "stream",
     "text": [
      "[27 29 31 33]\n",
      "[ 3  9 15 21 27 33]\n"
     ]
    }
   ],
   "source": [
    "print(seis[-4:])\n",
    "print(seis[0:16:3])"
   ]
  },
  {
   "cell_type": "raw",
   "id": "995373c9",
   "metadata": {},
   "source": [
    "7. Dado el numpy array en 2D"
   ]
  },
  {
   "cell_type": "code",
   "execution_count": 23,
   "id": "45707898",
   "metadata": {},
   "outputs": [],
   "source": [
    "siete =np.array([[69, 75, 52, 33,  7, 62, 22],\n",
    "               [87, 51, 13, 75, 78, 46, 53],\n",
    "               [43, 24, 58, 76,  3,  3, 57],\n",
    "               [84, 86, 75, 26, 71, 77,  7],\n",
    "               [75, 17, 17, 38, 54, 72, 78]])"
   ]
  },
  {
   "cell_type": "code",
   "execution_count": 24,
   "id": "9b9a05e4",
   "metadata": {},
   "outputs": [
    {
     "name": "stdout",
     "output_type": "stream",
     "text": [
      "72\n",
      "[[76  3]\n",
      " [26 71]\n",
      " [38 54]]\n",
      "[[87 51 13 75 78 46 53]\n",
      " [43 24 58 76  3  3 57]\n",
      " [84 86 75 26 71 77  7]]\n"
     ]
    }
   ],
   "source": [
    "print(siete[4,5])\n",
    "print(siete[2:5, 3:5])\n",
    "print(siete[1:4, :])"
   ]
  },
  {
   "cell_type": "raw",
   "id": "56f290d8",
   "metadata": {},
   "source": [
    "8. Dado el numpy array\n",
    "arr=np.arange(1,50,3)"
   ]
  },
  {
   "cell_type": "code",
   "execution_count": 25,
   "id": "424d82a9",
   "metadata": {},
   "outputs": [],
   "source": [
    "ocho = np.arange(1,50,3)"
   ]
  },
  {
   "cell_type": "code",
   "execution_count": 31,
   "id": "f8688431",
   "metadata": {},
   "outputs": [
    {
     "name": "stdout",
     "output_type": "stream",
     "text": [
      "[10 13 16 19 22 25 28 31 34 37 40]\n",
      "[16 22 28 34 40]\n"
     ]
    }
   ],
   "source": [
    "print(ocho[(ocho > 7) & (ocho < 43)])\n",
    "print(ocho[(ocho > 11) & (ocho < 45) & (ocho % 2 == 0)])"
   ]
  },
  {
   "cell_type": "raw",
   "id": "709f9620",
   "metadata": {},
   "source": [
    "9. Cree un 1D array uniformemente distribuido con 20 elementos y calcule:\n",
    "Media\n",
    "Deviación estándar\n",
    "Mediana\n",
    "Media de sus valores en log"
   ]
  },
  {
   "cell_type": "code",
   "execution_count": 32,
   "id": "29feb0ba",
   "metadata": {},
   "outputs": [],
   "source": [
    "nueve = np.linspace(0, 1, 20)"
   ]
  },
  {
   "cell_type": "code",
   "execution_count": 47,
   "id": "0feed597",
   "metadata": {},
   "outputs": [
    {
     "name": "stdout",
     "output_type": "stream",
     "text": [
      "0.5\n",
      "0.30348848933344197\n",
      "0.5\n"
     ]
    }
   ],
   "source": [
    "media = np.mean(nueve)\n",
    "print(media)\n",
    "desv = np.std(nueve)\n",
    "print(desv)\n",
    "mediana = np.median(nueve)\n",
    "print(mediana)\n",
    "#log = np.log10(nueve) ## este fue un intento fallido\n",
    "#mlog = np.mean(log)\n",
    "#print(mlog)"
   ]
  },
  {
   "cell_type": "code",
   "execution_count": 48,
   "id": "aeb34b44",
   "metadata": {},
   "outputs": [
    {
     "name": "stdout",
     "output_type": "stream",
     "text": [
      "-0.8605611896981283\n"
     ]
    }
   ],
   "source": [
    "nuevee = np.linspace(0, 1, 20) + 1e-10\n",
    "log = np.log10(nuevee)\n",
    "mlog = np.mean(log)\n",
    "print(mlog) #no toy segura de este, pero trate :s"
   ]
  },
  {
   "cell_type": "raw",
   "id": "032021d2",
   "metadata": {},
   "source": [
    "10. Escriba una función que:\n",
    "\n",
    "Tome un numpy array en 1D como input e imprima el arreglo invertido con elementos tipo flotantes\n",
    "For ejemplo, si ingresas el siguiente array en tu función\n",
    "\n",
    "array([ 1,  3,  5,  7,  9, 11, 13, 15, 17, 19, 21, 23])\n",
    "deberías imprimir\n",
    "\n",
    "array([23., 21., 19., 17., 15., 13., 11.,  9.,  7.,  5.,  3.,  1.])\n",
    "Tome un numpy array en 2D como input e imprima una copia del input array flattened a una dimensión\n",
    "For ejemplo, si el input array es:\n",
    "\n",
    "array([[7, 4, 8, 3],\n",
    "       [6, 3, 4, 3],\n",
    "       [4, 7, 5, 4]])\n",
    "el output de tu función debería ser\n",
    "\n",
    "array([7, 4, 8, 3, 6, 3, 4, 3, 4, 7, 5, 4])"
   ]
  },
  {
   "cell_type": "code",
   "execution_count": 53,
   "id": "f215c42f",
   "metadata": {},
   "outputs": [],
   "source": [
    "def diez_f(diez):\n",
    "    if diez.ndim == 1:\n",
    "        diez_float = diez.astype(float)[::-1]\n",
    "        print(diez_float)\n",
    "    elif diez.ndim == 2:\n",
    "        diez_flat = diez.flatten()\n",
    "        print(diez_flat)\n",
    "    else:\n",
    "        print(\"Error :c\")"
   ]
  },
  {
   "cell_type": "code",
   "execution_count": 57,
   "id": "c043b526",
   "metadata": {},
   "outputs": [
    {
     "name": "stdout",
     "output_type": "stream",
     "text": [
      "[23. 21. 19. 17. 15. 13. 11.  9.  7.  5.  3.  1.]\n"
     ]
    }
   ],
   "source": [
    "ej_2 = np.array([1, 3, 5, 7, 9, 11, 13, 15, 17, 19, 21, 23])\n",
    "diez_f(ej_2)"
   ]
  },
  {
   "cell_type": "code",
   "execution_count": 64,
   "id": "a738afe5",
   "metadata": {},
   "outputs": [
    {
     "name": "stdout",
     "output_type": "stream",
     "text": [
      "[[[0.093102   0.67500837 0.22078936]\n",
      "  [0.29840295 0.48769695 0.47625727]\n",
      "  [0.68672921 0.10255903 0.44198496]]\n",
      "\n",
      " [[0.62488841 0.18486147 0.84994127]\n",
      "  [0.32554481 0.28490288 0.88476408]\n",
      "  [0.00171831 0.0625695  0.46933678]]\n",
      "\n",
      " [[0.13849891 0.9723817  0.76393052]\n",
      "  [0.53446986 0.07240599 0.74276508]\n",
      "  [0.33741526 0.79818745 0.98566107]]]\n",
      "Error :c\n"
     ]
    }
   ],
   "source": [
    "matriz_3d = np.array([[[np.random.rand() for k in range(3)] for j in range(3)] for i in range(3)])\n",
    "print(matriz_3d)\n",
    "diez_f(matriz_3d)\n",
    "## este solo es para revisar que funcione bien"
   ]
  },
  {
   "cell_type": "code",
   "execution_count": null,
   "id": "f3e594d7",
   "metadata": {},
   "outputs": [],
   "source": [
    "#que tenga buen fin, chaito"
   ]
  }
 ],
 "metadata": {
  "kernelspec": {
   "display_name": "Python 3",
   "language": "python",
   "name": "python3"
  },
  "language_info": {
   "codemirror_mode": {
    "name": "ipython",
    "version": 3
   },
   "file_extension": ".py",
   "mimetype": "text/x-python",
   "name": "python",
   "nbconvert_exporter": "python",
   "pygments_lexer": "ipython3",
   "version": "3.8.8"
  }
 },
 "nbformat": 4,
 "nbformat_minor": 5
}
